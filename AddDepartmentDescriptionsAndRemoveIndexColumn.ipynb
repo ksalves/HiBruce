{
 "cells": [
  {
   "cell_type": "code",
   "execution_count": 1,
   "metadata": {},
   "outputs": [],
   "source": [
    "import pandas as pd\n",
    "import numpy as np"
   ]
  },
  {
   "cell_type": "code",
   "execution_count": 2,
   "metadata": {},
   "outputs": [],
   "source": [
    "df = pd.read_csv('massy-transactions.csv')"
   ]
  },
  {
   "cell_type": "code",
   "execution_count": 3,
   "metadata": {},
   "outputs": [],
   "source": [
    "df = df.drop(['Unnamed: 0'], axis=1)"
   ]
  },
  {
   "cell_type": "code",
   "execution_count": 4,
   "metadata": {},
   "outputs": [],
   "source": [
    "df['transaction_id'] = pd.factorize(df['transaction_number'].astype(str) +\n",
    "                                    df['invoice_number'].astype(str) + \n",
    "                                    df['start_date'].astype(str))[0] + 1\n",
    "df = df.drop(['transaction_number', 'invoice_number'], axis=1)"
   ]
  },
  {
   "cell_type": "code",
   "execution_count": 5,
   "metadata": {
    "scrolled": true
   },
   "outputs": [],
   "source": [
    "listing = pd.read_excel('SKU Listing_Trinidad Final.xlsx')\n",
    "\n",
    "listings    = (listing[['Dept', 'Dept Desc']]\n",
    "               .drop_duplicates()\n",
    "               .rename(index=str, columns={\"Dept\": \"department\",\n",
    "                                           \"Dept Desc\": \"department_description\"}))\n",
    "sublistings = (listing[['Sub Dept', 'Sub Dept Desc']]\n",
    "               .drop_duplicates()\n",
    "               .rename(index=str, columns={\"Sub Dept\": \"subdepartment\",\n",
    "                                           \"Sub Dept Desc\": \"subdepartment_description\"}))\n",
    "categories  = (listing[['Upc', 'Category', 'Category Description']]\n",
    "               .drop_duplicates()\n",
    "               .rename(index=str, columns={\"Upc\": \"upc_code\",\n",
    "                                           \"Category\":\"category\",\n",
    "                                           \"Category Description\": \"category_description\"}))"
   ]
  },
  {
   "cell_type": "code",
   "execution_count": 6,
   "metadata": {},
   "outputs": [],
   "source": [
    "df = (df.merge(right=listings,    how='left')\n",
    "        .merge(right=sublistings, how='left')\n",
    "        .merge(right=categories,  how='left'))"
   ]
  },
  {
   "cell_type": "code",
   "execution_count": 8,
   "metadata": {},
   "outputs": [],
   "source": [
    "df.to_csv('massy-transactions-noindex-deptdesc.csv', index=False)"
   ]
  }
 ],
 "metadata": {
  "kernelspec": {
   "display_name": "Python 3",
   "language": "python",
   "name": "python3"
  },
  "language_info": {
   "codemirror_mode": {
    "name": "ipython",
    "version": 3
   },
   "file_extension": ".py",
   "mimetype": "text/x-python",
   "name": "python",
   "nbconvert_exporter": "python",
   "pygments_lexer": "ipython3",
   "version": "3.6.4"
  }
 },
 "nbformat": 4,
 "nbformat_minor": 2
}
